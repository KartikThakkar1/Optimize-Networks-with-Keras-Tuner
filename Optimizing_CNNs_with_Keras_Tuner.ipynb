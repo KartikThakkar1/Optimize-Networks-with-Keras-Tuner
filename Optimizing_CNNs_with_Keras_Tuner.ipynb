{
  "cells": [
    {
      "cell_type": "code",
      "execution_count": 1,
      "metadata": {
        "colab": {
          "base_uri": "https://localhost:8080/"
        },
        "id": "Q1IT2ey-WO7C",
        "outputId": "666fae00-8ba2-49b2-aa34-dd7d44ec6901"
      },
      "outputs": [
        {
          "output_type": "stream",
          "name": "stdout",
          "text": [
            "Collecting keras-tuner\n",
            "  Downloading keras_tuner-1.4.7-py3-none-any.whl (129 kB)\n",
            "\u001b[2K     \u001b[90m━━━━━━━━━━━━━━━━━━━━━━━━━━━━━━━━━━━━━━━━\u001b[0m \u001b[32m129.1/129.1 kB\u001b[0m \u001b[31m3.2 MB/s\u001b[0m eta \u001b[36m0:00:00\u001b[0m\n",
            "\u001b[?25hRequirement already satisfied: keras in /usr/local/lib/python3.10/dist-packages (from keras-tuner) (2.15.0)\n",
            "Requirement already satisfied: packaging in /usr/local/lib/python3.10/dist-packages (from keras-tuner) (24.0)\n",
            "Requirement already satisfied: requests in /usr/local/lib/python3.10/dist-packages (from keras-tuner) (2.31.0)\n",
            "Collecting kt-legacy (from keras-tuner)\n",
            "  Downloading kt_legacy-1.0.5-py3-none-any.whl (9.6 kB)\n",
            "Requirement already satisfied: charset-normalizer<4,>=2 in /usr/local/lib/python3.10/dist-packages (from requests->keras-tuner) (3.3.2)\n",
            "Requirement already satisfied: idna<4,>=2.5 in /usr/local/lib/python3.10/dist-packages (from requests->keras-tuner) (3.6)\n",
            "Requirement already satisfied: urllib3<3,>=1.21.1 in /usr/local/lib/python3.10/dist-packages (from requests->keras-tuner) (2.0.7)\n",
            "Requirement already satisfied: certifi>=2017.4.17 in /usr/local/lib/python3.10/dist-packages (from requests->keras-tuner) (2024.2.2)\n",
            "Installing collected packages: kt-legacy, keras-tuner\n",
            "Successfully installed keras-tuner-1.4.7 kt-legacy-1.0.5\n"
          ]
        }
      ],
      "source": [
        "!pip install keras-tuner"
      ]
    },
    {
      "cell_type": "code",
      "execution_count": 2,
      "metadata": {
        "id": "0TMoxnGEYZcT"
      },
      "outputs": [],
      "source": [
        "import tensorflow as tf\n",
        "from tensorflow import keras\n",
        "import numpy as np"
      ]
    },
    {
      "cell_type": "code",
      "execution_count": 3,
      "metadata": {
        "id": "2mBP4Bt-Ylfb"
      },
      "outputs": [],
      "source": [
        "fmnist = keras.datasets.fashion_mnist"
      ]
    },
    {
      "cell_type": "code",
      "execution_count": 4,
      "metadata": {
        "colab": {
          "base_uri": "https://localhost:8080/"
        },
        "id": "XL_gEoeEYtUt",
        "outputId": "c70f774d-4e63-4b0b-e95b-86af263fe319"
      },
      "outputs": [
        {
          "output_type": "stream",
          "name": "stdout",
          "text": [
            "Downloading data from https://storage.googleapis.com/tensorflow/tf-keras-datasets/train-labels-idx1-ubyte.gz\n",
            "29515/29515 [==============================] - 0s 0us/step\n",
            "Downloading data from https://storage.googleapis.com/tensorflow/tf-keras-datasets/train-images-idx3-ubyte.gz\n",
            "26421880/26421880 [==============================] - 0s 0us/step\n",
            "Downloading data from https://storage.googleapis.com/tensorflow/tf-keras-datasets/t10k-labels-idx1-ubyte.gz\n",
            "5148/5148 [==============================] - 0s 0us/step\n",
            "Downloading data from https://storage.googleapis.com/tensorflow/tf-keras-datasets/t10k-images-idx3-ubyte.gz\n",
            "4422102/4422102 [==============================] - 0s 0us/step\n"
          ]
        }
      ],
      "source": [
        "(x_train, y_train), (x_test, y_test) = fmnist.load_data()"
      ]
    },
    {
      "cell_type": "code",
      "execution_count": 5,
      "metadata": {
        "id": "VsoniM7ZY_H6"
      },
      "outputs": [],
      "source": [
        "#scaling the images\n",
        "\n",
        "x_train = x_train/255.0\n",
        "x_test = x_test/255.0"
      ]
    },
    {
      "cell_type": "code",
      "execution_count": 6,
      "metadata": {
        "id": "NDEgmcByZU12"
      },
      "outputs": [],
      "source": [
        "x_train.reshape(len(x_train),28,28,1)\n",
        "x_test=x_test.reshape(len(x_test),28,28,1)"
      ]
    },
    {
      "cell_type": "code",
      "execution_count": 7,
      "metadata": {
        "colab": {
          "base_uri": "https://localhost:8080/"
        },
        "id": "1cvfWl3pdsYS",
        "outputId": "25d1483c-406b-4de4-a958-a0856378f201"
      },
      "outputs": [
        {
          "output_type": "stream",
          "name": "stderr",
          "text": [
            "<ipython-input-7-f829eee6c585>:1: DeprecationWarning: `import kerastuner` is deprecated, please use `import keras_tuner`.\n",
            "  import kerastuner\n"
          ]
        }
      ],
      "source": [
        "import kerastuner\n"
      ]
    },
    {
      "cell_type": "markdown",
      "source": [
        "**We can build a function that builds a model for us for a given set of hyperparameters. The function uses an arguement called 'hp'. hp can be used to define the ranges and choices for our hyperparameters. Use hp.Int when you want\n",
        " the model to try from a range of values and hp.Choice when you want the model to try for a specific set of values.**"
      ],
      "metadata": {
        "id": "BQK7IewiFyt7"
      }
    },
    {
      "cell_type": "code",
      "source": [],
      "metadata": {
        "id": "mMv4ZTfpFr97"
      },
      "execution_count": null,
      "outputs": []
    },
    {
      "cell_type": "code",
      "execution_count": 11,
      "metadata": {
        "id": "1c8HAoaueCG7"
      },
      "outputs": [],
      "source": [
        "\n",
        "def build_model(hp):\n",
        "\n",
        "  model = keras.Sequential([\n",
        "      keras.layers.Conv2D(\n",
        "          filters = hp.Int('conv1_filters',min_value=32,max_value=128,step=16),\n",
        "      kernel_size = hp.Choice('conv1_kernel_size',values=[3,5]),\n",
        "      activation = 'relu',\n",
        "      input_shape = (28,28,1)),\n",
        "\n",
        "      keras.layers.Conv2D(\n",
        "          filters = hp.Int('conv2_filters',min_value=32,max_value=64,step=16),\n",
        "          kernel_size = hp.Choice('conv2_kernel_size',values=[3,5]),\n",
        "          activation = 'relu'\n",
        "\n",
        "      ),\n",
        "      keras.layers.Flatten(),\n",
        "      keras.layers.Dense(\n",
        "          units = hp.Int('dense1_units',min_value=32,max_value=128,step=16),\n",
        "          activation = 'relu'\n",
        "      ),\n",
        "      keras.layers.Dense(10,activation='softmax')\n",
        "      ])\n",
        "\n",
        "  model.compile(optimizer = keras.optimizers.Adam(hp.Choice('learning_rate',values=[1e-2,1e-3])),\n",
        "                                                  loss='sparse_categorical_crossentropy',\n",
        "                                                  metrics=['accuracy'])\n",
        "\n",
        "\n",
        "  return model"
      ]
    },
    {
      "cell_type": "code",
      "execution_count": 12,
      "metadata": {
        "id": "KANadzDRjGqf"
      },
      "outputs": [],
      "source": [
        "from kerastuner import RandomSearch\n",
        "from kerastuner.engine.hyperparameters import HyperParameters"
      ]
    },
    {
      "cell_type": "markdown",
      "source": [
        "**Initiate a tuner, I am using Randomsearch ( refer the docs for keras tuner for more options). Specify the 'objective' (what do you wish to maximise or minimise), 'max_trials' (how many times do you want the tuner to try different models) and other keyword arguements.**"
      ],
      "metadata": {
        "id": "QnCm8o55G2aY"
      }
    },
    {
      "cell_type": "code",
      "source": [
        "tuner = RandomSearch(build_model,\n",
        "                     objective='val_accuracy',\n",
        "                     max_trials=5,\n",
        "                     directory='output',\n",
        "                     project_name='MNISTFASHION_TUNED')"
      ],
      "metadata": {
        "id": "4D5_Lp3ZAdfQ"
      },
      "execution_count": 13,
      "outputs": []
    },
    {
      "cell_type": "markdown",
      "source": [
        "**The .search() method runs the trials for the number of times you specify. You can access the best model using the get_best_models(). Train and predict using the best model.**"
      ],
      "metadata": {
        "id": "e49gIkZlIcaO"
      }
    },
    {
      "cell_type": "code",
      "source": [],
      "metadata": {
        "id": "dkkV3El9Ib0M"
      },
      "execution_count": null,
      "outputs": []
    },
    {
      "cell_type": "code",
      "source": [
        "tuner.search(x_train,y_train,validation_split=0.1,epochs=3)"
      ],
      "metadata": {
        "colab": {
          "base_uri": "https://localhost:8080/"
        },
        "id": "l_IIIyIxAv5A",
        "outputId": "e957c4ff-f38c-47eb-aa68-c0158b7ec64f"
      },
      "execution_count": 14,
      "outputs": [
        {
          "output_type": "stream",
          "name": "stdout",
          "text": [
            "Trial 5 Complete [00h 00m 27s]\n",
            "val_accuracy: 0.9045000076293945\n",
            "\n",
            "Best val_accuracy So Far: 0.9075000286102295\n",
            "Total elapsed time: 00h 03m 07s\n"
          ]
        }
      ]
    },
    {
      "cell_type": "code",
      "source": [
        "best_model = tuner.get_best_models()[0]"
      ],
      "metadata": {
        "id": "fn3CJgvYBIMy"
      },
      "execution_count": 23,
      "outputs": []
    },
    {
      "cell_type": "code",
      "source": [
        "best_model.summary()"
      ],
      "metadata": {
        "colab": {
          "base_uri": "https://localhost:8080/"
        },
        "id": "1zcz4MJFCMeZ",
        "outputId": "b9027b57-a2a1-429d-9248-5c0237908c28"
      },
      "execution_count": 24,
      "outputs": [
        {
          "output_type": "stream",
          "name": "stdout",
          "text": [
            "Model: \"sequential\"\n",
            "_________________________________________________________________\n",
            " Layer (type)                Output Shape              Param #   \n",
            "=================================================================\n",
            " conv2d (Conv2D)             (None, 24, 24, 112)       2912      \n",
            "                                                                 \n",
            " conv2d_1 (Conv2D)           (None, 20, 20, 48)        134448    \n",
            "                                                                 \n",
            " flatten (Flatten)           (None, 19200)             0         \n",
            "                                                                 \n",
            " dense (Dense)               (None, 96)                1843296   \n",
            "                                                                 \n",
            " dense_1 (Dense)             (None, 10)                970       \n",
            "                                                                 \n",
            "=================================================================\n",
            "Total params: 1981626 (7.56 MB)\n",
            "Trainable params: 1981626 (7.56 MB)\n",
            "Non-trainable params: 0 (0.00 Byte)\n",
            "_________________________________________________________________\n"
          ]
        }
      ]
    },
    {
      "cell_type": "code",
      "source": [
        "best_model.fit(x_train,y_train,epochs=10,validation_split=0.3,initial_epoch=3)"
      ],
      "metadata": {
        "colab": {
          "base_uri": "https://localhost:8080/"
        },
        "id": "nsNG0ezsDAWj",
        "outputId": "ddce69e5-22d0-427f-bb43-298024d791c4"
      },
      "execution_count": 25,
      "outputs": [
        {
          "output_type": "stream",
          "name": "stdout",
          "text": [
            "Epoch 4/10\n",
            "1313/1313 [==============================] - 10s 7ms/step - loss: 0.1684 - accuracy: 0.9356 - val_loss: 0.1923 - val_accuracy: 0.9281\n",
            "Epoch 5/10\n",
            "1313/1313 [==============================] - 9s 7ms/step - loss: 0.1293 - accuracy: 0.9516 - val_loss: 0.2106 - val_accuracy: 0.9273\n",
            "Epoch 6/10\n",
            "1313/1313 [==============================] - 8s 6ms/step - loss: 0.0995 - accuracy: 0.9626 - val_loss: 0.2371 - val_accuracy: 0.9297\n",
            "Epoch 7/10\n",
            "1313/1313 [==============================] - 8s 6ms/step - loss: 0.0777 - accuracy: 0.9711 - val_loss: 0.2564 - val_accuracy: 0.9237\n",
            "Epoch 8/10\n",
            "1313/1313 [==============================] - 9s 7ms/step - loss: 0.0572 - accuracy: 0.9784 - val_loss: 0.3276 - val_accuracy: 0.9196\n",
            "Epoch 9/10\n",
            "1313/1313 [==============================] - 8s 6ms/step - loss: 0.0481 - accuracy: 0.9820 - val_loss: 0.3321 - val_accuracy: 0.9218\n",
            "Epoch 10/10\n",
            "1313/1313 [==============================] - 9s 7ms/step - loss: 0.0370 - accuracy: 0.9869 - val_loss: 0.3830 - val_accuracy: 0.9201\n"
          ]
        },
        {
          "output_type": "execute_result",
          "data": {
            "text/plain": [
              "<keras.src.callbacks.History at 0x7faba4f526e0>"
            ]
          },
          "metadata": {},
          "execution_count": 25
        }
      ]
    },
    {
      "cell_type": "code",
      "source": [
        "single_predictions = []\n",
        "for pred in predictions:\n",
        "\n",
        "  final = np.argmax(pred)\n",
        "  single_predictions.append(final)\n",
        "\n"
      ],
      "metadata": {
        "id": "9mqT98_aEk7Y"
      },
      "execution_count": 39,
      "outputs": []
    },
    {
      "cell_type": "code",
      "source": [
        "from sklearn.metrics import accuracy_score,confusion_matrix"
      ],
      "metadata": {
        "id": "hwUsNBapEHJH"
      },
      "execution_count": 41,
      "outputs": []
    },
    {
      "cell_type": "code",
      "source": [
        "score = accuracy_score(y_test,single_predictions)"
      ],
      "metadata": {
        "id": "DIWYw0cSEYf7"
      },
      "execution_count": 43,
      "outputs": []
    },
    {
      "cell_type": "code",
      "source": [
        "score*100"
      ],
      "metadata": {
        "colab": {
          "base_uri": "https://localhost:8080/"
        },
        "id": "LcZ4tcWWEbkP",
        "outputId": "7f93a960-89d1-4e79-bade-9844c0170ade"
      },
      "execution_count": 45,
      "outputs": [
        {
          "output_type": "execute_result",
          "data": {
            "text/plain": [
              "90.14"
            ]
          },
          "metadata": {},
          "execution_count": 45
        }
      ]
    },
    {
      "cell_type": "code",
      "source": [
        "cm = confusion_matrix(y_true=y_test,y_pred=single_predictions)"
      ],
      "metadata": {
        "id": "pTU9b93TEhB7"
      },
      "execution_count": 46,
      "outputs": []
    },
    {
      "cell_type": "code",
      "source": [
        "cm"
      ],
      "metadata": {
        "colab": {
          "base_uri": "https://localhost:8080/"
        },
        "id": "wvu9VIERFhpH",
        "outputId": "837ce882-ae7a-48ba-86d0-05a7c8363023"
      },
      "execution_count": 47,
      "outputs": [
        {
          "output_type": "execute_result",
          "data": {
            "text/plain": [
              "array([[838,   9,  16,  19,   3,   2, 104,   1,   8,   0],\n",
              "       [  1, 989,   0,   7,   0,   0,   2,   0,   1,   0],\n",
              "       [ 16,   2, 798,  11,  84,   0,  88,   0,   1,   0],\n",
              "       [ 15,  17,  10, 907,  25,   0,  26,   0,   0,   0],\n",
              "       [  1,   3,  40,  33, 867,   0,  54,   0,   2,   0],\n",
              "       [  0,   0,   0,   0,   0, 979,   0,  11,   1,   9],\n",
              "       [106,   5,  57,  21,  77,   0, 727,   0,   7,   0],\n",
              "       [  0,   1,   0,   0,   0,  10,   0, 965,   0,  24],\n",
              "       [  3,   0,   2,   4,   4,   3,   5,   2, 976,   1],\n",
              "       [  0,   0,   1,   0,   0,   5,   1,  25,   0, 968]])"
            ]
          },
          "metadata": {},
          "execution_count": 47
        }
      ]
    },
    {
      "cell_type": "code",
      "source": [
        "best_model.sav"
      ],
      "metadata": {
        "colab": {
          "base_uri": "https://localhost:8080/"
        },
        "id": "foSVQMTgFiID",
        "outputId": "9c9fb859-bf87-40c2-e0cc-c1340ddd207a"
      },
      "execution_count": 51,
      "outputs": [
        {
          "output_type": "stream",
          "name": "stdout",
          "text": [
            "Results summary\n",
            "Results in output/MNISTFASHION_TUNED\n",
            "Showing 10 best trials\n",
            "Objective(name=\"val_accuracy\", direction=\"max\")\n",
            "\n",
            "Trial 1 summary\n",
            "Hyperparameters:\n",
            "conv1_filters: 112\n",
            "conv1_kernel_size: 5\n",
            "conv2_filters: 48\n",
            "conv2_kernel_size: 5\n",
            "dense1_units: 96\n",
            "learning_rate: 0.001\n",
            "Score: 0.9075000286102295\n",
            "\n",
            "Trial 0 summary\n",
            "Hyperparameters:\n",
            "conv1_filters: 112\n",
            "conv1_kernel_size: 3\n",
            "conv2_filters: 64\n",
            "conv2_kernel_size: 5\n",
            "dense1_units: 96\n",
            "learning_rate: 0.001\n",
            "Score: 0.9070000052452087\n",
            "\n",
            "Trial 4 summary\n",
            "Hyperparameters:\n",
            "conv1_filters: 64\n",
            "conv1_kernel_size: 5\n",
            "conv2_filters: 48\n",
            "conv2_kernel_size: 5\n",
            "dense1_units: 48\n",
            "learning_rate: 0.001\n",
            "Score: 0.9045000076293945\n",
            "\n",
            "Trial 3 summary\n",
            "Hyperparameters:\n",
            "conv1_filters: 32\n",
            "conv1_kernel_size: 5\n",
            "conv2_filters: 32\n",
            "conv2_kernel_size: 3\n",
            "dense1_units: 64\n",
            "learning_rate: 0.01\n",
            "Score: 0.859333336353302\n",
            "\n",
            "Trial 2 summary\n",
            "Hyperparameters:\n",
            "conv1_filters: 112\n",
            "conv1_kernel_size: 3\n",
            "conv2_filters: 48\n",
            "conv2_kernel_size: 3\n",
            "dense1_units: 112\n",
            "learning_rate: 0.01\n",
            "Score: 0.8573333621025085\n"
          ]
        }
      ]
    },
    {
      "cell_type": "code",
      "source": [
        "best_model.save('/content/output')"
      ],
      "metadata": {
        "id": "NRLwyAzDHyQ3"
      },
      "execution_count": 53,
      "outputs": []
    },
    {
      "cell_type": "code",
      "source": [],
      "metadata": {
        "id": "b973suaPKB3b"
      },
      "execution_count": null,
      "outputs": []
    }
  ],
  "metadata": {
    "colab": {
      "provenance": [],
      "gpuType": "T4"
    },
    "kernelspec": {
      "display_name": "Python 3",
      "name": "python3"
    },
    "language_info": {
      "name": "python"
    },
    "accelerator": "GPU"
  },
  "nbformat": 4,
  "nbformat_minor": 0
}